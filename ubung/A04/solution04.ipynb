{
 "cells": [
  {
   "cell_type": "markdown",
   "metadata": {},
   "source": [
    "# 1\n",
    "\n",
    "## a)\n",
    "\n",
    "$\\because$\n",
    "\n",
    "$$\\begin{aligned}\n",
    "\\sigma(x) = \\frac{1}{1+e^{-x}}\n",
    "\\end{aligned}$$\n",
    "\n",
    "$$\n",
    "g(x) = -x\n",
    "$$\n",
    "\n",
    "$\\therefore$\n",
    "\n",
    "$$\\begin{aligned}\n",
    "\\frac{\\partial}{\\partial x} \\sigma(x) &= \\frac{1}{(1+e^{-x})^2}\\cdot e^{-x} \\cdot \\frac{\\partial}{\\partial x}g(x) \\\\\n",
    "&= \\frac{1}{1+e^{-x}}\\cdot \\frac{e^{-x}}{1+e^{-x}}\\cdot \\frac{\\partial}{\\partial x}g(x) \\\\\n",
    "&= \\sigma(x)(1-\\sigma(x))\\frac{\\partial}{\\partial x}g(x)\n",
    "\\end{aligned}$$\n",
    "\n",
    "So the derivative can be written as $\\sigma(x)(1-\\sigma(x)$"
   ]
  },
  {
   "cell_type": "markdown",
   "metadata": {},
   "source": [
    "## b)\n",
    "\n",
    "\n"
   ]
  },
  {
   "cell_type": "markdown",
   "metadata": {},
   "source": [
    "## c)\n",
    "\n",
    "\n"
   ]
  },
  {
   "cell_type": "markdown",
   "metadata": {},
   "source": [
    "## d)\n",
    "\n",
    "\n"
   ]
  },
  {
   "cell_type": "markdown",
   "metadata": {},
   "source": [
    "# 2\n",
    "\n"
   ]
  },
  {
   "cell_type": "code",
   "execution_count": 51,
   "metadata": {},
   "outputs": [
    {
     "name": "stdout",
     "output_type": "stream",
     "text": [
      "(100, 3)\n",
      "(100,)\n",
      "train: [-0.06945354  0.01090728  0.0009913 ]\n",
      "cost: 0.8954009115851668\n",
      "a:-11.003037608675866\n",
      "b: 70.06330538769483\n",
      "Accuracy: 60.00%\n"
     ]
    },
    {
     "data": {
      "image/png": "[encoded data removed]",
      "text/plain": [
       "<Figure size 432x288 with 1 Axes>"
      ]
     },
     "metadata": {},
     "output_type": "display_data"
    }
   ],
   "source": [
    "#!/usr/bin/python3\n",
    "# -*- coding: utf-8 -*-\n",
    "import csv\n",
    "import numpy as np\n",
    "import matplotlib.pyplot as plt\n",
    "import pandas as pd\n",
    "%matplotlib inline\n",
    "\n",
    "\n",
    "# (a)\n",
    "\n",
    "def load_data(filename):\n",
    "    \"\"\"should load the data from the given file, returning a matrix \n",
    "    for X and a vector for y\"\"\"\n",
    "    # TODO your code here\n",
    "    data = pd.read_csv(filename, sep=',', header=None).values\n",
    "    x, y = data[:, :2], data[:, 2]\n",
    "    return x, y;\n",
    "\n",
    "\n",
    "X, y = load_data('ex_data.csv')\n",
    "m = len(y)\n",
    "\n",
    "# extend the data in order to add a bias term to the dot product with theta\n",
    "X = np.column_stack([np.ones(m), X])\n",
    "\n",
    "print(X.shape)\n",
    "print(y.shape)\n",
    "\n",
    "# now plot the data\n",
    "# TODO your code here\n",
    "minX, maxX = np.min(X[:,1]), np.max(X[:,1])\n",
    "hsp = (maxX - minX) / 5\n",
    "minX, maxX = minX - hsp, maxX + hsp\n",
    "minY, maxY = np.min(X[:,2]), np.max(X[:,2])\n",
    "vsp = (maxY - minY) / 5\n",
    "minY, maxY = minY - vsp, maxY + vsp\n",
    "\n",
    "from matplotlib.colors import ListedColormap\n",
    "\n",
    "colors = ListedColormap(['r', 'b'])\n",
    "ax = plt.axes()\n",
    "ax.scatter(X[:,1], X[:,2], c=y, cmap=colors)\n",
    "ax.set_xlim(minX, maxX)\n",
    "ax.set_ylim(minY, maxY)\n",
    "plt.xlabel('X1')\n",
    "plt.ylabel('X2')\n",
    "plt.title('Example Data')\n",
    "# plt.show()\n",
    "\n",
    "\n",
    "# (b)\n",
    "def sigmoid(x):\n",
    "    # TODO your code here\n",
    "    return ((1 + np.exp(-x)) ** (-1))\n",
    "\n",
    "\n",
    "# (c)\n",
    "\n",
    "def cost(theta):\n",
    "    \"\"\"compute the cost function from the parameters theta\"\"\"\n",
    "    # TODO your code here\n",
    "    sigma0 = sigmoid(np.dot(X[0==y,:], theta))\n",
    "    sigma1 = sigmoid(np.dot(X[1==y,:], theta))\n",
    "    c = -(np.sum(np.log(sigma0)) +\n",
    "           (np.sum(np.log(1-sigma1)))) / len(y)\n",
    "    return c\n",
    "\n",
    "\n",
    "def grad(theta):\n",
    "    \"\"\"compute the derivative of the cost function with respect to theta\"\"\"\n",
    "    # TODO your code here\n",
    "    sigma = sigmoid(np.dot(X, theta))\n",
    "    g = np.dot((sigma-y), X) / len(y)\n",
    "    return g\n",
    "\n",
    "\n",
    "# (d)\n",
    "def GD(gradf, theta0, lr, steps, costf):\n",
    "    \"\"\"\n",
    "    Args:\n",
    "      gradf: gradient of the cost function\n",
    "      theta0: initail value for the parameters theta\n",
    "      lr: learing rate\n",
    "      steps: total number of iterations to perform\n",
    "      costf: cost function (only needed for debugging/outputting intermediate results)\n",
    "    returns the final value for theta\n",
    "    \"\"\"\n",
    "    # TODO your code here\n",
    "    theta = theta0\n",
    "    for _ in range(steps):\n",
    "        theta -= lr * gradf(theta)\n",
    "    return theta\n",
    "\n",
    "\n",
    "# (e)\n",
    "# use these parameters for training the model\n",
    "train = GD(grad, np.zeros(3), 1e-5, 100000, cost)\n",
    "\n",
    "# also plot the decisicon boundary and calculate the accuracy\n",
    "# TODO your code here\n",
    "a = -train[1]/train[2]\n",
    "b = -train[0]/train[2]\n",
    "print('train: {}'.format(train))\n",
    "print('cost: {}'.format(cost(train)))\n",
    "print('a:{}'.format(a))\n",
    "print('b: {}'.format(b))\n",
    "# print('({},{}),({},{})'.format(minX, maxX, minY, maxY))\n",
    "acc = np.mean((np.dot(X,train) >= 0) == y)\n",
    "print(\"Accuracy: {:.2f}%\".format(acc*100))\n",
    "\n",
    "# %whos\n",
    "ax.plot([minX, maxX], [minX*a+b, maxX*a+b], color='red')\n",
    "plt.show()\n",
    "# fig = plt.figure()\n",
    "# x0 = X[0==y,:]\n",
    "# x1 = X[1==y,:]\n",
    "# plt.plot(x0[:,1], x0[:,2], 'r.')\n",
    "# plt.plot(x1[:,1], x1[:,2], 'b.')\n",
    "# plt.grid(True)\n",
    "# plt.show()\n"
   ]
  }
 ],
 "metadata": {
  "kernelspec": {
   "display_name": "Python 3",
   "language": "python",
   "name": "python3"
  },
  "language_info": {
   "codemirror_mode": {
    "name": "ipython",
    "version": 3
   },
   "file_extension": ".py",
   "mimetype": "text/x-python",
   "name": "python",
   "nbconvert_exporter": "python",
   "pygments_lexer": "ipython3",
   "version": "3.6.5"
  }
 },
 "nbformat": 4,
 "nbformat_minor": 2
}
